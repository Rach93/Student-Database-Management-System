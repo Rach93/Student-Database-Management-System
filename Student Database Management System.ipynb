{
 "cells": [
  {
   "cell_type": "markdown",
   "metadata": {},
   "source": [
    "# Student-Database-Management-System\n",
    "\n",
    "This application allows the user to perform read, update, insert and delete statements from the command line interface. \n",
    "The application was developed using Python, all the student information is stored on SQLite."
   ]
  },
  {
   "cell_type": "markdown",
   "metadata": {},
   "source": [
    "### Establish a connection to the database"
   ]
  },
  {
   "cell_type": "code",
   "execution_count": 27,
   "metadata": {},
   "outputs": [],
   "source": [
    "import sqlite3\n",
    "from sqlite3 import Error\n",
    " \n",
    "\n",
    "def create_connection(db_file):\n",
    "    \"\"\" create a database connection to the SQLite database\n",
    "        specified by the db_file\n",
    "    :param db_file: database file\n",
    "    :return: Connection object or None\n",
    "    \"\"\"\n",
    "    conn = None\n",
    "    try:\n",
    "        conn = sqlite3.connect(db_file)\n",
    "    except Error as e:\n",
    "        print(e)\n",
    " \n",
    "    return conn"
   ]
  },
  {
   "cell_type": "markdown",
   "metadata": {},
   "source": [
    "### 1. The number of courses for which the student has registered"
   ]
  },
  {
   "cell_type": "code",
   "execution_count": 28,
   "metadata": {},
   "outputs": [],
   "source": [
    "def select_option1(conn):\n",
    "    \"\"\"\n",
    "    1. The number of courses for which the student has registered\n",
    "    \"\"\"\n",
    "    cur = conn.cursor()\n",
    "    cur.execute(\"\"\"select a.id, a.StudentName, count(*) as no_of_courses from Student a \n",
    "                inner join CourseRegistration b on a.ID=b.StudentID \n",
    "                inner join Courses c on b.CourseID=c.ID \n",
    "                group by b.StudentID;\"\"\")\n",
    " \n",
    "    rows = cur.fetchall()\n",
    "    cur.close()\n",
    " \n",
    "    for row in rows:\n",
    "        print(row)"
   ]
  },
  {
   "cell_type": "markdown",
   "metadata": {},
   "source": [
    "### 2. The average marks of the students"
   ]
  },
  {
   "cell_type": "code",
   "execution_count": 29,
   "metadata": {},
   "outputs": [],
   "source": [
    "def select_option2(conn):\n",
    "    \"\"\"\n",
    "    2. The average marks of the students\n",
    "    \"\"\"\n",
    "    cur = conn.cursor()\n",
    "    cur.execute(\"\"\"select a.id, a.StudentName, avg(Marks) as Average_Marks from Student a \n",
    "                inner join CourseRegistration b on a.ID=b.StudentID \n",
    "                inner join Courses c on b.CourseID=c.ID\n",
    "                group by b.StudentID;\"\"\")\n",
    " \n",
    "    rows = cur.fetchall()\n",
    "    cur.close()\n",
    " \n",
    "    for row in rows:\n",
    "        print(row)"
   ]
  },
  {
   "cell_type": "markdown",
   "metadata": {},
   "source": [
    "### 3. Which student scored the maximum marks for a course"
   ]
  },
  {
   "cell_type": "code",
   "execution_count": 30,
   "metadata": {},
   "outputs": [],
   "source": [
    "def select_option3(conn):\n",
    "    \"\"\"\n",
    "    3. Which student scored the maximum marks for a course\n",
    "    \"\"\"\n",
    "    cur = conn.cursor()\n",
    "    print(\"\"\"1. To see the student with maximum marks, Press 1\n",
    "    \\n2. To see the student with minimum marks, Press 2\\n\"\"\")\n",
    "    y = input('Enter 1 or 2:')\n",
    "    \n",
    "    if y == '1':\n",
    "        cur.execute(\"\"\"select a.id, a.StudentName, c.CourseName, max(Marks) as Highest_Marks from Student a \n",
    "                    inner join CourseRegistration b on a.ID=b.StudentID \n",
    "                    inner join Courses c on b.CourseID=c.ID\n",
    "                    group by b.CourseID;\"\"\")\n",
    "        rows = cur.fetchall()\n",
    "        cur.close()\n",
    "        for row in rows:\n",
    "            print(row)\n",
    "        \n",
    "    elif y == '2':\n",
    "        cur.execute(\"\"\"select a.id, a.StudentName, c.CourseName, min(Marks) as Lowest_Marks from Student a \n",
    "                    inner join CourseRegistration b on a.ID=b.StudentID \n",
    "                    inner join Courses c on b.CourseID=c.ID\n",
    "                    group by b.CourseID;\"\"\")\n",
    "        rows = cur.fetchall()\n",
    "        cur.close()\n",
    "        for row in rows:\n",
    "            print(row)\n",
    "    \n",
    "    else :\n",
    "        print(\"\"\"Sorry you have entered an incorrect number, nothing to display\"\"\")   "
   ]
  },
  {
   "cell_type": "markdown",
   "metadata": {},
   "source": [
    "### 4. The number of instructors present in a department"
   ]
  },
  {
   "cell_type": "code",
   "execution_count": 31,
   "metadata": {},
   "outputs": [],
   "source": [
    "def select_option4(conn):\n",
    "    \"\"\"\n",
    "    4. The number of instructors present in a department\n",
    "    \"\"\"\n",
    "    cur = conn.cursor()\n",
    "    cur.execute(\"\"\"select b.DeptName, count(*) as No_of_Instructors from Instructor a \n",
    "                inner join Department b on a.DeptID=b.ID \n",
    "                group by a.DeptID;\"\"\")\n",
    " \n",
    "    rows = cur.fetchall()\n",
    "    cur.close()\n",
    " \n",
    "    for row in rows:\n",
    "        print(row)"
   ]
  },
  {
   "cell_type": "markdown",
   "metadata": {},
   "source": [
    "### 5. The courses for which the student registered The number of instructors present in a department"
   ]
  },
  {
   "cell_type": "code",
   "execution_count": 32,
   "metadata": {},
   "outputs": [],
   "source": [
    "def select_option5(conn):\n",
    "    \"\"\"\n",
    "    5. The courses for which the student registered\n",
    "    \"\"\"\n",
    "    item = input('Enter Student Name:')\n",
    "    cur = conn.cursor()\n",
    "    print(\"\\n6. Courses taken by\"' '+item+'\\n')\n",
    "    cur.execute(\"\"\"select a.ID,a.StudentName,c.CourseName from Student a \n",
    "                inner join CourseRegistration b on a.ID=b.StudentID \n",
    "                inner join Courses c on b.CourseID=c.ID\n",
    "                inner join Department e on a.DeptID=e.ID\n",
    "                where a.StudentName=?;\"\"\",[item])\n",
    " \n",
    "    rows = cur.fetchall()\n",
    "    cur.close()\n",
    " \n",
    "    for row in rows:\n",
    "        print(row)"
   ]
  },
  {
   "cell_type": "markdown",
   "metadata": {},
   "source": [
    "### 6. The average marks for various courses"
   ]
  },
  {
   "cell_type": "code",
   "execution_count": 33,
   "metadata": {},
   "outputs": [],
   "source": [
    "def select_option6(conn):\n",
    "    \"\"\"\n",
    "    6. The average marks for various courses\n",
    "    \"\"\"\n",
    "    cur = conn.cursor()\n",
    "    cur.execute(\"\"\"select a.CourseName, avg(Marks) from Courses a \n",
    "                inner join CourseRegistration b on a.ID=b.CourseID \n",
    "                group by CourseID;\"\"\")\n",
    " \n",
    "    rows = cur.fetchall()\n",
    "    cur.close()\n",
    " \n",
    "    for row in rows:\n",
    "        print(row)"
   ]
  },
  {
   "cell_type": "markdown",
   "metadata": {},
   "source": [
    "### 7. The number of part-time and full-time students, scholarship and non-scholarship students"
   ]
  },
  {
   "cell_type": "code",
   "execution_count": 34,
   "metadata": {},
   "outputs": [],
   "source": [
    "def select_option7(conn):\n",
    "    \"\"\"\n",
    "    7. The number of part-time and full-time students, scholarship and non-scholarship students\n",
    "    \"\"\"\n",
    "    cur = conn.cursor()\n",
    "    print(\"\"\"1. To see number of part-time and full-time students, Press 1\n",
    "    \\n2. To see number of scholarship and non-scholarship students, Press 2\\n\"\"\")\n",
    "    y = input('Enter 1 or 2: ')\n",
    "    \n",
    "    if y == '1':\n",
    "        cur.execute(\"\"\"select EnrollmentType, count(*) aS No_of_Students from Student group by EnrollmentType;\"\"\")\n",
    "        rows = cur.fetchall()\n",
    "        cur.close()\n",
    "        for row in rows:\n",
    "            print(row)\n",
    "    elif y == '2':\n",
    "        cur.execute(\"\"\"select Scholarship, count(*) aS No_of_Students from Student group by Scholarship;\"\"\")\n",
    "        rows = cur.fetchall()\n",
    "        cur.close()\n",
    "        for row in rows:\n",
    "            print(row)\n",
    "    else :\n",
    "        print(\"\"\"Sorry you have entered an incorrect number, nothing to display\"\"\")"
   ]
  },
  {
   "cell_type": "markdown",
   "metadata": {},
   "source": [
    "### 8. Fee details of a student"
   ]
  },
  {
   "cell_type": "code",
   "execution_count": 35,
   "metadata": {},
   "outputs": [],
   "source": [
    "def select_option8(conn):\n",
    "    \"\"\"\n",
    "    8. Fee details of a student\n",
    "    \"\"\"\n",
    "    cur = conn.cursor()\n",
    "    item2 = input('Enter Student Name: ')\n",
    "    cur.execute(\"\"\"select a.ID, StudentName, c.FeeDescrpition, b.Amount, AmountPaid, AmountDue from Student a\n",
    "                inner join transactions b on a.ID=b.StudentID\n",
    "                inner join Fees c on c.ID=b.FeeID\n",
    "                where a.StudentName=?\"\"\",[item2])\n",
    " \n",
    "    rows = cur.fetchall()\n",
    "    cur.close()\n",
    "    \n",
    "    for row in rows:\n",
    "        print(row)"
   ]
  },
  {
   "cell_type": "markdown",
   "metadata": {},
   "source": [
    "### 9. List of instructors and the courses they are teaching"
   ]
  },
  {
   "cell_type": "code",
   "execution_count": 43,
   "metadata": {},
   "outputs": [],
   "source": [
    "def select_option9(conn):\n",
    "    \"\"\"\n",
    "    9. List of instructors and the courses they are teaching\n",
    "    \"\"\"\n",
    "    cur = conn.cursor()\n",
    "    cur.execute(\"\"\"select InstructorName, CourseName from Instructor a \n",
    "                inner join Courses b on a.ID=b.InstructorID;\"\"\")\n",
    " \n",
    "    rows = cur.fetchall()\n",
    "    cur.close()\n",
    " \n",
    "    for row in rows:\n",
    "        print(row)"
   ]
  },
  {
   "cell_type": "markdown",
   "metadata": {},
   "source": [
    "### 10. Add courses to the database"
   ]
  },
  {
   "cell_type": "code",
   "execution_count": 37,
   "metadata": {},
   "outputs": [],
   "source": [
    "def select_option10(conn):\n",
    "    \"\"\"\n",
    "    10. Add courses to the database\n",
    "    \"\"\"\n",
    "    cur = conn.cursor()\n",
    "    CourseName = input('Please enter Course Name: ')\n",
    "    Credits = input('Please enter Credits: ')\n",
    "    Term = input('Please enter Term: ')\n",
    "    InstructorID = input('Please enter InstructorID: ')\n",
    "    DeptID = input('Please enter DeptID: ')\n",
    "    sql_statement = \"\"\"INSERT INTO Courses (CourseName, Credits, Term, InstructorID, DeptID) VALUES (?, ?, ?, ?, ?);\"\"\"\n",
    "    cur.execute(sql_statement, (CourseName, Credits, Term, InstructorID, DeptID))\n",
    "    conn.commit()\n",
    "    cur.close()"
   ]
  },
  {
   "cell_type": "markdown",
   "metadata": {},
   "source": [
    "### 11. Update course credits"
   ]
  },
  {
   "cell_type": "code",
   "execution_count": 38,
   "metadata": {},
   "outputs": [],
   "source": [
    "def select_option11(conn):\n",
    "    \"\"\"\n",
    "    11. Update course credits\n",
    "    \"\"\"\n",
    "    cur = conn.cursor()\n",
    "    ID = input('Please enter ID: ')\n",
    "    Credits = input('Please enter Credits: ')\n",
    "    sql_statement = \"\"\"Update Courses set Credits = ? where ID = ?;\"\"\"\n",
    "    cur.execute(sql_statement, (Credits,ID))\n",
    "    conn.commit()\n",
    "    cur.close()"
   ]
  },
  {
   "cell_type": "markdown",
   "metadata": {},
   "source": [
    "### 12. Delete a course"
   ]
  },
  {
   "cell_type": "code",
   "execution_count": 39,
   "metadata": {},
   "outputs": [],
   "source": [
    "def select_option12(conn):\n",
    "    \"\"\"\n",
    "    12. Delete a course\n",
    "    \"\"\"\n",
    "    cur = conn.cursor()\n",
    "    item3 = input('Please Course Name: ')\n",
    "    cur.execute(\"\"\"delete from Courses where CourseName=?;\"\"\",[item3])\n",
    "    conn.commit()\n",
    "    cur.close()"
   ]
  },
  {
   "cell_type": "markdown",
   "metadata": {},
   "source": [
    "### Menu Options"
   ]
  },
  {
   "cell_type": "code",
   "execution_count": 40,
   "metadata": {},
   "outputs": [
    {
     "name": "stdout",
     "output_type": "stream",
     "text": [
      "\n",
      "Welcome to the Student database application:\n",
      "            1. To see number of courses for which students have registered,Press 1\n",
      "            2. To see the average marks of the students, Press 2\n",
      "            3. To see which students scored the maximum marks/minimum marks for a course, Press 3\n",
      "            4. The number of instructors in each department, Press 4\n",
      "            5. To see the courses for which a student registered, Press 5\n",
      "            6. To see the average marks for various courses, Press 6\n",
      "            7. To see number of Part-time and Full-time students, scholarship and non-scholarship students, Press 7\n",
      "            8. To see fee details of a student, Press 8\n",
      "            9. To see a the list of instructors and the courses taught by them, Press 9\n",
      "            10. To add a course, Press 10\n",
      "            11. To update course credits, Press 11\n",
      "            12. To delete a course, Press 12\n",
      "            Finally, to close application Press anything other than 1-12\n",
      "\n",
      "Enter a number:1\n",
      "\n",
      "1. The number of courses for which students have registered\n",
      "\n",
      "(1, 'Odo Hoyle', 1)\n",
      "(2, 'Russ Fontell', 2)\n",
      "(3, 'Monro Maffetti', 2)\n",
      "(4, 'Amberly Dearell', 1)\n",
      "(5, 'Annamarie Gilberthorpe', 1)\n",
      "(6, 'Markos Greaser', 1)\n",
      "(7, 'Valentine Egre', 3)\n",
      "(8, 'Knox Torpie', 1)\n",
      "(9, 'Debby Saffin', 2)\n",
      "(10, 'Deeann Bortoletti', 1)\n",
      "(11, 'Val Tuppeny', 1)\n",
      "(13, 'Redd Yu', 1)\n",
      "(14, 'Kacie Jerwood', 2)\n",
      "(15, 'Demetris Gorvette', 1)\n",
      "(16, 'Karney Poate', 2)\n",
      "(17, 'Mord Argile', 1)\n",
      "(20, 'Berry Filewood', 1)\n",
      "\n",
      "Welcome to the Student database application:\n",
      "            1. To see number of courses for which students have registered,Press 1\n",
      "            2. To see the average marks of the students, Press 2\n",
      "            3. To see which students scored the maximum marks/minimum marks for a course, Press 3\n",
      "            4. The number of instructors in each department, Press 4\n",
      "            5. To see the courses for which a student registered, Press 5\n",
      "            6. To see the average marks for various courses, Press 6\n",
      "            7. To see number of Part-time and Full-time students, scholarship and non-scholarship students, Press 7\n",
      "            8. To see fee details of a student, Press 8\n",
      "            9. To see a the list of instructors and the courses taught by them, Press 9\n",
      "            10. To add a course, Press 10\n",
      "            11. To update course credits, Press 11\n",
      "            12. To delete a course, Press 12\n",
      "            Finally, to close application Press anything other than 1-12\n",
      "\n",
      "Enter a number:22\n",
      "\n",
      " Application Closed!!!!!\n",
      "\n"
     ]
    }
   ],
   "source": [
    "def main():\n",
    "    database = r\"C:\\Users\\17059\\Desktop\\Intro to databases\\studentdb.db\"\n",
    " \n",
    "    # create a database connection\n",
    "    conn = create_connection(database)\n",
    "    \n",
    "    with conn:\n",
    "            \n",
    "        while (True):\n",
    "            print(\"\"\"\\nWelcome to the Student database application:\n",
    "            1. To see number of courses for which students have registered,Press 1\n",
    "            2. To see the average marks of the students, Press 2\n",
    "            3. To see which students scored the maximum marks/minimum marks for a course, Press 3\n",
    "            4. The number of instructors in each department, Press 4\n",
    "            5. To see the courses for which a student registered, Press 5\n",
    "            6. To see the average marks for various courses, Press 6\n",
    "            7. To see number of Part-time and Full-time students, scholarship and non-scholarship students, Press 7\n",
    "            8. To see fee details of a student, Press 8\n",
    "            9. To see a the list of instructors and the courses taught by them, Press 9\n",
    "            10. To add a course, Press 10\n",
    "            11. To update course credits, Press 11\n",
    "            12. To delete a course, Press 12\n",
    "            Finally, to close application Press anything other than 1-12\\n\"\"\")\n",
    "            x = input('Enter a number:')\n",
    "            if x == '1':\n",
    "                print(\"\\n1. The number of courses for which students have registered\\n\")\n",
    "                select_option1(conn)\n",
    "            \n",
    "            elif x == '2':\n",
    "                print(\"\\n2. The average marks of the students\\n\")\n",
    "                select_option2(conn)\n",
    "                \n",
    "            elif x == '3':\n",
    "                print(\"\\n3. Which student scored the maximum marks/minimum marks for a course\\n\")\n",
    "                select_option3(conn)\n",
    "    \n",
    "            elif x == '4':\n",
    "                print(\"\\n4. The number of instructors in each department\\n\")\n",
    "                select_option4(conn)\n",
    "            \n",
    "            elif x == '5':\n",
    "                select_option5(conn)\n",
    "            \n",
    "            elif x == '6':\n",
    "                print(\"\\n6. The average marks for various courses\\n\")\n",
    "                select_option6(conn)\n",
    "\n",
    "            elif x == '7':\n",
    "                print(\"\\n7. Part-time and full-time students, scholarship and non-scholarship students\\n\")\n",
    "                select_option7(conn)\n",
    "                \n",
    "            elif x == '8':\n",
    "                print(\"\\n8. Fee details of a student\\n\")\n",
    "                select_option8(conn)\n",
    "                \n",
    "            elif x == '9':\n",
    "                print(\"\\n9. List of instructors and the courses they are teaching\\n\")\n",
    "                select_option9(conn)\n",
    "            \n",
    "            elif x == '10':\n",
    "                print(\"\\n10. Insert a new course\\n\")\n",
    "                select_option10(conn)\n",
    "                \n",
    "            elif x == '11':\n",
    "                print(\"\\n11. Update course credits\\n\")\n",
    "                select_option11(conn)\n",
    "            \n",
    "            elif x == '12':\n",
    "                print(\"\\n12. Delete a course\\n\")\n",
    "                select_option12(conn)\n",
    "            \n",
    "            else :\n",
    "                print(\"\\n Application Closed!!!!!\\n\")\n",
    "                break\n",
    "            \n",
    "if __name__ == '__main__':\n",
    "    main()"
   ]
  }
 ],
 "metadata": {
  "kernelspec": {
   "display_name": "Python 3",
   "language": "python",
   "name": "python3"
  },
  "language_info": {
   "codemirror_mode": {
    "name": "ipython",
    "version": 3
   },
   "file_extension": ".py",
   "mimetype": "text/x-python",
   "name": "python",
   "nbconvert_exporter": "python",
   "pygments_lexer": "ipython3",
   "version": "3.7.1"
  }
 },
 "nbformat": 4,
 "nbformat_minor": 2
}
